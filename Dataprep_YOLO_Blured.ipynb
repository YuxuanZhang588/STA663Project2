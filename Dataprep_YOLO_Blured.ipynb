{
 "cells": [
  {
   "cell_type": "code",
   "execution_count": 2,
   "metadata": {},
   "outputs": [],
   "source": [
    "# Dataprep for Gaussian Blur Detect\n",
    "from PIL import ImageFile, ImageFilter\n",
    "ImageFile.LOAD_TRUNCATED_IMAGES = True\n",
    "import shutil\n",
    "import pandas as pd\n",
    "import os\n",
    "\n",
    "def blur_image(image):\n",
    "    # Apply Gaussian blur directly on the PIL image object\n",
    "    return image.filter(ImageFilter.GaussianBlur)"
   ]
  },
  {
   "cell_type": "code",
   "execution_count": 3,
   "metadata": {},
   "outputs": [
    {
     "name": "stderr",
     "output_type": "stream",
     "text": [
      "C:\\Users\\LEGION\\AppData\\Local\\Packages\\PythonSoftwareFoundation.Python.3.11_qbz5n2kfra8p0\\LocalCache\\local-packages\\Python311\\site-packages\\tqdm\\auto.py:21: TqdmWarning: IProgress not found. Please update jupyter and ipywidgets. See https://ipywidgets.readthedocs.io/en/stable/user_install.html\n",
      "  from .autonotebook import tqdm as notebook_tqdm\n"
     ]
    }
   ],
   "source": [
    "from datasets import load_dataset\n",
    "dataset = load_dataset(\"yh0701/FracAtlas_dataset\", trust_remote_code=True)"
   ]
  },
  {
   "cell_type": "code",
   "execution_count": 9,
   "metadata": {},
   "outputs": [
    {
     "data": {
      "text/plain": [
       "{'image_id': 'IMG0001287.jpg',\n",
       " 'image': <PIL.JpegImagePlugin.JpegImageFile image mode=RGB size=373x454>,\n",
       " 'hand': 0,\n",
       " 'leg': 1,\n",
       " 'hip': 0,\n",
       " 'shoulder': 0,\n",
       " 'mixed': 0,\n",
       " 'hardware': 0,\n",
       " 'multiscan': 0,\n",
       " 'fractured': 0,\n",
       " 'fracture_count': 0,\n",
       " 'frontal': 1,\n",
       " 'lateral': 0,\n",
       " 'oblique': 0,\n",
       " 'localization_metadata': {'width': 373, 'height': 454, 'depth': 3},\n",
       " 'segmentation_metadata': None}"
      ]
     },
     "execution_count": 9,
     "metadata": {},
     "output_type": "execute_result"
    }
   ],
   "source": [
    "dataset['test'][0]"
   ]
  },
  {
   "cell_type": "code",
   "execution_count": 7,
   "metadata": {},
   "outputs": [],
   "source": [
    "def create_directories(directory_paths):\n",
    "    for path in directory_paths.values():\n",
    "        os.makedirs(path, exist_ok=True)"
   ]
  },
  {
   "cell_type": "code",
   "execution_count": 4,
   "metadata": {},
   "outputs": [],
   "source": [
    "for j in ['test', 'validation', 'train']:\n",
    "    for i in range(len(dataset[j])):\n",
    "        pil_image = dataset[j][i]['image']\n",
    "        blurred_image = blur_image(pil_image)\n",
    "        image_name = dataset[j][i]['image_id']\n",
    "        blurred_image.save(f'Blured_Images\\{image_name}')"
   ]
  },
  {
   "cell_type": "code",
   "execution_count": 5,
   "metadata": {},
   "outputs": [],
   "source": [
    "# Distribute Blured Images for Detection Training\n",
    "train_csv = \"FracAtlas/FracAtlas/Utilities/Fracture Split/train.csv\"\n",
    "valid_csv = \"FracAtlas/FracAtlas/Utilities/Fracture Split/valid.csv\"\n",
    "test_csv = \"FracAtlas/FracAtlas/Utilities/Fracture Split/test.csv\"\n",
    "\n",
    "source_dir = \"Blured_Images\"\n",
    "\n",
    "dest_dirs = {\n",
    "    'train': \"Blured_Training_Detection/dataset/train/images\",\n",
    "    'valid': \"Blured_Training_Detection/dataset/valid/images\",\n",
    "    'test': \"Blured_Training_Detection/dataset/test/images\", \n",
    "}\n",
    "\n",
    "def copy_images(csv_file, target_dir):\n",
    "    df = pd.read_csv(csv_file)\n",
    "    os.makedirs(target_dir, exist_ok=True)\n",
    "    for image_name in df['image_id']:\n",
    "        src_path = os.path.join(source_dir, image_name)\n",
    "        dst_path = os.path.join(target_dir, image_name)\n",
    "        shutil.copy(src_path, dst_path)\n",
    "\n",
    "copy_images(train_csv, dest_dirs['train'])\n",
    "copy_images(valid_csv, dest_dirs['valid'])\n",
    "copy_images(test_csv, dest_dirs['test'])"
   ]
  },
  {
   "cell_type": "code",
   "execution_count": 6,
   "metadata": {},
   "outputs": [],
   "source": [
    "# Distribute Labels for Detection Training\n",
    "source_dir = \"FracAtlas/FracAtlas/Annotations/YOLO\"\n",
    "\n",
    "dest_dirs = {\n",
    "    'train': \"Blured_Training_Detection/dataset/train/labels\",\n",
    "    'valid': \"Blured_Training_Detection/dataset/valid/labels\",\n",
    "    'test': \"Blured_Training_Detection/dataset/test/labels\", \n",
    "}\n",
    "\n",
    "def copy_labels(csv_file, target_dir):\n",
    "    df = pd.read_csv(csv_file)\n",
    "    for image_name in df['image_id']:\n",
    "        label_name = image_name.replace('.jpg', '.txt')\n",
    "        shutil.copy(os.path.join(source_dir, label_name), os.path.join(target_dir, label_name))\n",
    "\n",
    "copy_labels(train_csv, dest_dirs['train'])\n",
    "copy_labels(valid_csv, dest_dirs['valid'])\n",
    "copy_labels(test_csv, dest_dirs['test'])"
   ]
  },
  {
   "cell_type": "code",
   "execution_count": 8,
   "metadata": {},
   "outputs": [],
   "source": [
    "# Dataprep for Gaussian Blur Segmentation\n",
    "source_dir = \"Blured_Images\"\n",
    "\n",
    "dest_dirs = {\n",
    "    'train': \"Blured_Training_Segmentation/dataset/train/images\",\n",
    "    'valid': \"Blured_Training_Segmentation/dataset/valid/images\",\n",
    "    'test': \"Blured_Training_Segmentation/dataset/test/images\", \n",
    "}\n",
    "create_directories(dest_dirs)\n",
    "\n",
    "def copy_images(csv_file, target_dir):\n",
    "    df = pd.read_csv(csv_file)\n",
    "    os.makedirs(target_dir, exist_ok=True)\n",
    "    for image_name in df['image_id']:\n",
    "        src_path = os.path.join(source_dir, image_name)\n",
    "        dst_path = os.path.join(target_dir, image_name)\n",
    "        shutil.copy(src_path, dst_path)\n",
    "\n",
    "copy_images(train_csv, dest_dirs['train'])\n",
    "copy_images(valid_csv, dest_dirs['valid'])\n",
    "copy_images(test_csv, dest_dirs['test'])"
   ]
  },
  {
   "cell_type": "code",
   "execution_count": 9,
   "metadata": {},
   "outputs": [],
   "source": [
    "# Distribute Labels for Segmentation Training\n",
    "source_dir = \"YOLO_Segmentation_Labels\"\n",
    "\n",
    "dest_dirs = {\n",
    "    'train': \"Blured_Training_Segmentation/dataset/train/labels\",\n",
    "    'valid': \"Blured_Training_Segmentation/dataset/valid/labels\",\n",
    "    'test': \"Blured_Training_Segmentation/dataset/test/labels\", \n",
    "}\n",
    "create_directories(dest_dirs)\n",
    "\n",
    "def copy_labels(csv_file, target_dir):\n",
    "    df = pd.read_csv(csv_file)\n",
    "\n",
    "    for image_name in df['image_id']:\n",
    "        label_name = image_name.replace('.jpg', '.txt')\n",
    "        shutil.copy(os.path.join(source_dir, label_name), os.path.join(target_dir, label_name))\n",
    "\n",
    "copy_labels(train_csv, dest_dirs['train'])\n",
    "copy_labels(valid_csv, dest_dirs['valid'])\n",
    "copy_labels(test_csv, dest_dirs['test'])"
   ]
  }
 ],
 "metadata": {
  "kernelspec": {
   "display_name": "Python 3",
   "language": "python",
   "name": "python3"
  },
  "language_info": {
   "codemirror_mode": {
    "name": "ipython",
    "version": 3
   },
   "file_extension": ".py",
   "mimetype": "text/x-python",
   "name": "python",
   "nbconvert_exporter": "python",
   "pygments_lexer": "ipython3",
   "version": "3.11.8"
  }
 },
 "nbformat": 4,
 "nbformat_minor": 2
}
