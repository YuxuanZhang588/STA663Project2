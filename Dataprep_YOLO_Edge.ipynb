{
 "cells": [
  {
   "cell_type": "code",
   "execution_count": 1,
   "metadata": {},
   "outputs": [
    {
     "name": "stderr",
     "output_type": "stream",
     "text": [
      "C:\\Users\\LEGION\\AppData\\Local\\Packages\\PythonSoftwareFoundation.Python.3.11_qbz5n2kfra8p0\\LocalCache\\local-packages\\Python311\\site-packages\\tqdm\\auto.py:21: TqdmWarning: IProgress not found. Please update jupyter and ipywidgets. See https://ipywidgets.readthedocs.io/en/stable/user_install.html\n",
      "  from .autonotebook import tqdm as notebook_tqdm\n"
     ]
    }
   ],
   "source": [
    "# Increasing Contrast to the Images\n",
    "from PIL import ImageFile, ImageFilter\n",
    "import numpy as np\n",
    "ImageFile.LOAD_TRUNCATED_IMAGES = True\n",
    "import shutil\n",
    "import pandas as pd\n",
    "import os\n",
    "from datasets import load_dataset\n",
    "import cv2 as cv\n",
    "dataset = load_dataset(\"yh0701/FracAtlas_dataset\", trust_remote_code=True)\n"
   ]
  },
  {
   "cell_type": "code",
   "execution_count": 7,
   "metadata": {},
   "outputs": [],
   "source": [
    "edged_images_train = []\n",
    "for j in ['train', 'test', 'validation']:\n",
    "    for i, item in enumerate(dataset[j]):\n",
    "        image_data = np.array(item['image'])\n",
    "        if len(image_data.shape) == 3 and image_data.shape[2]>1:\n",
    "            image_data = cv.cvtColor(np.array(image_data), cv.COLOR_BGR2GRAY)\n",
    "        edges = cv.Canny(image_data,100,200)\n",
    "        image_id = item['image_id']\n",
    "        image_path = f'D:\\project2\\Edge\\{image_id}'\n",
    "        cv.imwrite(image_path, edges)"
   ]
  },
  {
   "cell_type": "code",
   "execution_count": 8,
   "metadata": {},
   "outputs": [],
   "source": [
    "def create_directories(directory_paths):\n",
    "    for path in directory_paths.values():\n",
    "        os.makedirs(path, exist_ok=True)"
   ]
  },
  {
   "cell_type": "code",
   "execution_count": 11,
   "metadata": {},
   "outputs": [],
   "source": [
    "# Distribute Edge Images to Cooresponding Folders\n",
    "train_csv = \"D:/project2/FracAtlas/FracAtlas/Utilities/Fracture Split/train.csv\"\n",
    "valid_csv = \"D:/project2/FracAtlas/FracAtlas/Utilities/Fracture Split/valid.csv\"\n",
    "test_csv = \"D:/project2/FracAtlas/FracAtlas/Utilities/Fracture Split/test.csv\"\n",
    "\n",
    "source_dir = \"D:\\project2\\Edge\"\n",
    "\n",
    "dest_dirs = {\n",
    "    'train': \"D:/project2/Edge_Training_Detection/dataset/train/images\",\n",
    "    'valid': \"D:/project2/Edge_Training_Detection/dataset/valid/images\",\n",
    "    'test': \"D:/project2/Edge_Training_Detection/dataset/test/images\", \n",
    "}\n",
    "\n",
    "def copy_images(csv_file, target_dir):\n",
    "    # Read the CSV file\n",
    "    df = pd.read_csv(csv_file)\n",
    "    \n",
    "    # Ensure the target directory exists\n",
    "    os.makedirs(target_dir, exist_ok=True)\n",
    "    \n",
    "    # Copy each image listed in the CSV file to the target directory\n",
    "    for image_name in df['image_id']:\n",
    "        src_path = os.path.join(source_dir, image_name)\n",
    "        dst_path = os.path.join(target_dir, image_name)\n",
    "        shutil.copy(src_path, dst_path)\n",
    "\n",
    "copy_images(train_csv, dest_dirs['train'])\n",
    "copy_images(valid_csv, dest_dirs['valid'])\n",
    "copy_images(test_csv, dest_dirs['test'])"
   ]
  },
  {
   "cell_type": "code",
   "execution_count": 12,
   "metadata": {},
   "outputs": [],
   "source": [
    "# Distribute Labels to Cooresponding Folders\n",
    "source_dir = \"D:/project2/FracAtlas/FracAtlas/Annotations/YOLO\"\n",
    "\n",
    "dest_dirs = {\n",
    "    'train': \"D:/project2/Edge_Training_Detection/dataset/train/labels\",\n",
    "    'valid': \"D:/project2/Edge_Training_Detection/dataset/valid/labels\",\n",
    "    'test': \"D:/project2/Edge_Training_Detection/dataset/test/labels\", \n",
    "}\n",
    "\n",
    "create_directories(dest_dirs)\n",
    "\n",
    "def copy_labels(csv_file, target_dir):\n",
    "    df = pd.read_csv(csv_file)\n",
    "\n",
    "    for image_name in df['image_id']:\n",
    "        label_name = image_name.replace('.jpg', '.txt')\n",
    "        shutil.copy(os.path.join(source_dir, label_name), os.path.join(target_dir, label_name))\n",
    "\n",
    "copy_labels(train_csv, dest_dirs['train'])\n",
    "copy_labels(valid_csv, dest_dirs['valid'])\n",
    "copy_labels(test_csv, dest_dirs['test'])"
   ]
  },
  {
   "cell_type": "code",
   "execution_count": 13,
   "metadata": {},
   "outputs": [],
   "source": [
    "# Distribute Edge Images to Cooresponding Folders\n",
    "train_csv = \"D:/project2/FracAtlas/FracAtlas/Utilities/Fracture Split/train.csv\"\n",
    "valid_csv = \"D:/project2/FracAtlas/FracAtlas/Utilities/Fracture Split/valid.csv\"\n",
    "test_csv = \"D:/project2/FracAtlas/FracAtlas/Utilities/Fracture Split/test.csv\"\n",
    "\n",
    "source_dir = \"D:\\project2\\Edge\"\n",
    "\n",
    "dest_dirs = {\n",
    "    'train': \"D:/project2/Edge_Training_Seg/dataset/train/images\",\n",
    "    'valid': \"D:/project2/Edge_Training_Seg/dataset/valid/images\",\n",
    "    'test': \"D:/project2/Edge_Training_Seg/dataset/test/images\", \n",
    "}\n",
    "\n",
    "def copy_images(csv_file, target_dir):\n",
    "    # Read the CSV file\n",
    "    df = pd.read_csv(csv_file)\n",
    "    \n",
    "    # Ensure the target directory exists\n",
    "    os.makedirs(target_dir, exist_ok=True)\n",
    "    \n",
    "    # Copy each image listed in the CSV file to the target directory\n",
    "    for image_name in df['image_id']:\n",
    "        src_path = os.path.join(source_dir, image_name)\n",
    "        dst_path = os.path.join(target_dir, image_name)\n",
    "        shutil.copy(src_path, dst_path)\n",
    "\n",
    "copy_images(train_csv, dest_dirs['train'])\n",
    "copy_images(valid_csv, dest_dirs['valid'])\n",
    "copy_images(test_csv, dest_dirs['test'])"
   ]
  },
  {
   "cell_type": "code",
   "execution_count": 14,
   "metadata": {},
   "outputs": [],
   "source": [
    "# Distribute Labels to Cooresponding Folders\n",
    "source_dir = \"D:\\project2\\YOLO_Segmentation\"\n",
    "\n",
    "dest_dirs = {\n",
    "    'train': \"D:/project2/Edge_Training_Seg/dataset/train/labels\",\n",
    "    'valid': \"D:/project2/Edge_Training_Seg/dataset/valid/labels\",\n",
    "    'test': \"D:/project2/Edge_Training_Seg/dataset/test/labels\", \n",
    "}\n",
    "\n",
    "create_directories(dest_dirs)\n",
    "\n",
    "def copy_labels(csv_file, target_dir):\n",
    "    df = pd.read_csv(csv_file)\n",
    "\n",
    "    for image_name in df['image_id']:\n",
    "        label_name = image_name.replace('.jpg', '.txt')\n",
    "        shutil.copy(os.path.join(source_dir, label_name), os.path.join(target_dir, label_name))\n",
    "\n",
    "copy_labels(train_csv, dest_dirs['train'])\n",
    "copy_labels(valid_csv, dest_dirs['valid'])\n",
    "copy_labels(test_csv, dest_dirs['test'])"
   ]
  }
 ],
 "metadata": {
  "kernelspec": {
   "display_name": "Python 3",
   "language": "python",
   "name": "python3"
  },
  "language_info": {
   "codemirror_mode": {
    "name": "ipython",
    "version": 3
   },
   "file_extension": ".py",
   "mimetype": "text/x-python",
   "name": "python",
   "nbconvert_exporter": "python",
   "pygments_lexer": "ipython3",
   "version": "3.11.8"
  }
 },
 "nbformat": 4,
 "nbformat_minor": 2
}
