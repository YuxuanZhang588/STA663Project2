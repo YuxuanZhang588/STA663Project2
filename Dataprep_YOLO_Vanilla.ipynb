{
 "cells": [
  {
   "cell_type": "code",
   "execution_count": 2,
   "metadata": {},
   "outputs": [],
   "source": [
    "# Dataprep for Detection\n",
    "import pandas as pd\n",
    "import os\n",
    "import shutil\n",
    "\n",
    "train_csv = \"FracAtlas/FracAtlas/Utilities/Fracture Split/train.csv\"\n",
    "valid_csv = \"FracAtlas/FracAtlas/Utilities/Fracture Split/valid.csv\"\n",
    "test_csv = \"FracAtlas/FracAtlas/Utilities/Fracture Split/test.csv\"\n",
    "\n",
    "source_dir = \"FracAtlas/FracAtlas/images/All_Images\"\n",
    "\n",
    "dest_dirs = {\n",
    "    'train': \"Vanilla_Training_Detection/dataset/train/images\",\n",
    "    'valid': \"Vanilla_Training_Detection/dataset/valid/images\",\n",
    "    'test': \"Vanilla_Training_Detection/dataset/test/images\", \n",
    "}\n",
    "\n",
    "def copy_images(csv_file, target_dir):\n",
    "    df = pd.read_csv(csv_file)\n",
    "    os.makedirs(target_dir, exist_ok=True)\n",
    "    for image_name in df['image_id']:\n",
    "        src_path = os.path.join(source_dir, image_name)\n",
    "        dst_path = os.path.join(target_dir, image_name)\n",
    "        shutil.copy(src_path, dst_path)\n",
    "\n",
    "copy_images(train_csv, dest_dirs['train'])\n",
    "copy_images(valid_csv, dest_dirs['valid'])\n",
    "copy_images(test_csv, dest_dirs['test'])"
   ]
  },
  {
   "cell_type": "code",
   "execution_count": null,
   "metadata": {},
   "outputs": [],
   "source": [
    "# Labels\n",
    "source_dir = \"FracAtlas/FracAtlas/Annotations/YOLO\"\n",
    "\n",
    "dest_dirs = {\n",
    "    'train': \"Vanilla_Training_Detection/dataset/train/labels\",\n",
    "    'valid': \"Vanilla_Training_Detection/dataset/valid/labels\",\n",
    "    'test': \"Vanilla_Training_Detection/dataset/test/labels\", \n",
    "}\n",
    "\n",
    "def copy_labels(csv_file, target_dir):\n",
    "    df = pd.read_csv(csv_file)\n",
    "    for image_name in df['image_id']:\n",
    "        label_name = image_name.replace('.jpg', '.txt')\n",
    "        shutil.copy(os.path.join(source_dir, label_name), os.path.join(target_dir, label_name))\n",
    "\n",
    "copy_labels(train_csv, dest_dirs['train'])\n",
    "copy_labels(valid_csv, dest_dirs['valid'])\n",
    "copy_labels(test_csv, dest_dirs['test'])"
   ]
  },
  {
   "cell_type": "code",
   "execution_count": 3,
   "metadata": {},
   "outputs": [],
   "source": [
    "# Dataprep for Segmentation\n",
    "dest_dirs = {\n",
    "    'train': \"Vanilla_Training_Seg/dataset/train/images\",\n",
    "    'valid': \"Vanilla_Training_Seg/dataset/valid/images\",\n",
    "    'test': \"Vanilla_Training_Seg/dataset/test/images\", \n",
    "}\n",
    "\n",
    "def copy_images(csv_file, target_dir):\n",
    "    df = pd.read_csv(csv_file)\n",
    "    os.makedirs(target_dir, exist_ok=True)\n",
    "    for image_name in df['image_id']:\n",
    "        src_path = os.path.join(source_dir, image_name)\n",
    "        dst_path = os.path.join(target_dir, image_name)\n",
    "        shutil.copy(src_path, dst_path)\n",
    "\n",
    "copy_images(train_csv, dest_dirs['train'])\n",
    "copy_images(valid_csv, dest_dirs['valid'])\n",
    "copy_images(test_csv, dest_dirs['test'])"
   ]
  },
  {
   "cell_type": "code",
   "execution_count": 4,
   "metadata": {},
   "outputs": [],
   "source": [
    "# Labels\n",
    "source_dir = \"YOLO_Segmentation_Lables\"\n",
    "\n",
    "dest_dirs = {\n",
    "    'train': \"Vanilla_Training_Seg/dataset/train/labels\",\n",
    "    'valid': \"Vanilla_Training_Seg/dataset/valid/labels\",\n",
    "    'test': \"Vanilla_Training_Seg/dataset/test/labels\", \n",
    "}\n",
    "\n",
    "def copy_labels(csv_file, target_dir):\n",
    "    df = pd.read_csv(csv_file)\n",
    "    for image_name in df['image_id']:\n",
    "        label_name = image_name.replace('.jpg', '.txt')\n",
    "        shutil.copy(os.path.join(source_dir, label_name), os.path.join(target_dir, label_name))\n",
    "\n",
    "copy_labels(train_csv, dest_dirs['train'])\n",
    "copy_labels(valid_csv, dest_dirs['valid'])\n",
    "copy_labels(test_csv, dest_dirs['test'])"
   ]
  }
 ],
 "metadata": {
  "kernelspec": {
   "display_name": "Python 3",
   "language": "python",
   "name": "python3"
  },
  "language_info": {
   "codemirror_mode": {
    "name": "ipython",
    "version": 3
   },
   "file_extension": ".py",
   "mimetype": "text/x-python",
   "name": "python",
   "nbconvert_exporter": "python",
   "pygments_lexer": "ipython3",
   "version": "3.11.8"
  }
 },
 "nbformat": 4,
 "nbformat_minor": 2
}
