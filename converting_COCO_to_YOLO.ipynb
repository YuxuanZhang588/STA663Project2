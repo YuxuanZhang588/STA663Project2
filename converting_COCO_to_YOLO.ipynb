{
 "cells": [
  {
   "cell_type": "code",
   "execution_count": 1,
   "metadata": {},
   "outputs": [],
   "source": [
    "import json\n",
    "import os\n",
    "with open('FracAtlas\\FracAtlas\\Annotations\\COCO JSON\\COCO_fracture_masks.json') as f:\n",
    "    coco_data = json.load(f)"
   ]
  },
  {
   "cell_type": "code",
   "execution_count": 2,
   "metadata": {},
   "outputs": [],
   "source": [
    "for index, image in enumerate(coco_data['images']):\n",
    "    id = image['id']\n",
    "    width = image['width']\n",
    "    height = image['height']\n",
    "    YOLO_file_name = image['file_name'].replace('.jpg', '.txt')\n",
    "    directory_path = \"YOLO_Segmentation_labels/\"\n",
    "    YOLO_file_path = directory_path + YOLO_file_name\n",
    "    \n",
    "    for annotation in coco_data['annotations']:\n",
    "        if annotation['image_id'] == id:\n",
    "            for i in range(len(annotation['segmentation'])):\n",
    "                segmentation_lst = annotation['segmentation'][i]\n",
    "                normalized = []\n",
    "                for i, value in enumerate(segmentation_lst):\n",
    "                    if i % 2 == 0:\n",
    "                        normalized_value = value / width\n",
    "                    else:\n",
    "                        normalized_value = value / height\n",
    "                    normalized.append(normalized_value)\n",
    "                segmentation = ' '.join(map(str, normalized))\n",
    "                segmentation = '0 ' + segmentation + '\\n'\n",
    "                with open(YOLO_file_path, 'w') as file:\n",
    "                    file.write(segmentation)"
   ]
  }
 ],
 "metadata": {
  "kernelspec": {
   "display_name": "Python 3",
   "language": "python",
   "name": "python3"
  },
  "language_info": {
   "codemirror_mode": {
    "name": "ipython",
    "version": 3
   },
   "file_extension": ".py",
   "mimetype": "text/x-python",
   "name": "python",
   "nbconvert_exporter": "python",
   "pygments_lexer": "ipython3",
   "version": "3.11.8"
  }
 },
 "nbformat": 4,
 "nbformat_minor": 2
}
